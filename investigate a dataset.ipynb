{
 "cells": [
  {
   "cell_type": "markdown",
   "id": "ba7d709c",
   "metadata": {},
   "source": [
    "# I have chosen No-show appointment dataset in this project, which this dataset contains 100k med- ical appointment in Brazil, and show or describe the question why the patient no attend.\n",
    "\n",
    "## i have 6 questions in this project, I will analyze and answer it: \n",
    "\n",
    "<ol type =\"1\" , style=\"background-color:powderblue; \">\n",
    "<a href =\"#Q1\" ><li >Are those who have diseases such as diabetes and Hipertension committed to the appointment more than others? </li> </a>\n",
    "    <a href =\"#Q2\"><li > Is the one who has a Scholarship and attended the appointment more than the one who does not have? </li></a>\n",
    "    <a href =\"#Q3\"><li > Do those who received text messages are more than attended? </li></a>\n",
    "    <a href =\"#Q4\"> <li > Which neighborhood is the most attended? </li></a>\n",
    "    <a  href =\"#Q5\" > <li > What is the average age of the most attended? and what is the gender ? </li></a>\n",
    "    <a href =\"#Q6\"> <li>What is the year  of the most attended?</li> </a>\n",
    "\n",
    " </ol>"
   ]
  },
  {
   "cell_type": "code",
   "execution_count": 1,
   "id": "c2ac1e18",
   "metadata": {},
   "outputs": [],
   "source": [
    "#import librirs \n",
    "import pandas as pd \n",
    "import numpy as np \n",
    "import matplotlib.pyplot as plt\n",
    "import seaborn as sns \n",
    "%matplotlib inline"
   ]
  },
  {
   "cell_type": "markdown",
   "id": "5fa86255",
   "metadata": {},
   "source": [
    "# 1 Gather"
   ]
  },
  {
   "cell_type": "code",
   "execution_count": 2,
   "id": "e811d957",
   "metadata": {},
   "outputs": [
    {
     "name": "stdout",
     "output_type": "stream",
     "text": [
      "\u001b[34mProject 1\u001b[m\u001b[m\r\n",
      "\u001b[34mProject 2\u001b[m\u001b[m\r\n",
      "check appo.ipynb\r\n",
      "investigate a dataset.ipynb\r\n",
      "investigate-a-dataset-template.ipynb\r\n",
      "noshowappointments-kagglev2-may-2016.csv\r\n"
     ]
    }
   ],
   "source": [
    "!ls"
   ]
  },
  {
   "cell_type": "code",
   "execution_count": 3,
   "id": "2d71c531",
   "metadata": {},
   "outputs": [],
   "source": [
    "# show max rows\n",
    "pd.set_option('display.max_columns', None)"
   ]
  },
  {
   "cell_type": "code",
   "execution_count": 4,
   "id": "ca0aafe1",
   "metadata": {},
   "outputs": [],
   "source": [
    "df =pd.read_csv(\"noshowappointments-kagglev2-may-2016.csv\")"
   ]
  },
  {
   "cell_type": "markdown",
   "id": "4f15878c",
   "metadata": {},
   "source": [
    "# 2 Assess"
   ]
  },
  {
   "cell_type": "code",
   "execution_count": 5,
   "id": "407deae8",
   "metadata": {},
   "outputs": [
    {
     "data": {
      "text/html": [
       "<div>\n",
       "<style scoped>\n",
       "    .dataframe tbody tr th:only-of-type {\n",
       "        vertical-align: middle;\n",
       "    }\n",
       "\n",
       "    .dataframe tbody tr th {\n",
       "        vertical-align: top;\n",
       "    }\n",
       "\n",
       "    .dataframe thead th {\n",
       "        text-align: right;\n",
       "    }\n",
       "</style>\n",
       "<table border=\"1\" class=\"dataframe\">\n",
       "  <thead>\n",
       "    <tr style=\"text-align: right;\">\n",
       "      <th></th>\n",
       "      <th>PatientId</th>\n",
       "      <th>AppointmentID</th>\n",
       "      <th>Gender</th>\n",
       "      <th>ScheduledDay</th>\n",
       "      <th>AppointmentDay</th>\n",
       "      <th>Age</th>\n",
       "      <th>Neighbourhood</th>\n",
       "      <th>Scholarship</th>\n",
       "      <th>Hipertension</th>\n",
       "      <th>Diabetes</th>\n",
       "      <th>Alcoholism</th>\n",
       "      <th>Handcap</th>\n",
       "      <th>SMS_received</th>\n",
       "      <th>No-show</th>\n",
       "    </tr>\n",
       "  </thead>\n",
       "  <tbody>\n",
       "    <tr>\n",
       "      <th>0</th>\n",
       "      <td>2.987250e+13</td>\n",
       "      <td>5642903</td>\n",
       "      <td>F</td>\n",
       "      <td>2016-04-29T18:38:08Z</td>\n",
       "      <td>2016-04-29T00:00:00Z</td>\n",
       "      <td>62</td>\n",
       "      <td>JARDIM DA PENHA</td>\n",
       "      <td>0</td>\n",
       "      <td>1</td>\n",
       "      <td>0</td>\n",
       "      <td>0</td>\n",
       "      <td>0</td>\n",
       "      <td>0</td>\n",
       "      <td>No</td>\n",
       "    </tr>\n",
       "    <tr>\n",
       "      <th>1</th>\n",
       "      <td>5.589978e+14</td>\n",
       "      <td>5642503</td>\n",
       "      <td>M</td>\n",
       "      <td>2016-04-29T16:08:27Z</td>\n",
       "      <td>2016-04-29T00:00:00Z</td>\n",
       "      <td>56</td>\n",
       "      <td>JARDIM DA PENHA</td>\n",
       "      <td>0</td>\n",
       "      <td>0</td>\n",
       "      <td>0</td>\n",
       "      <td>0</td>\n",
       "      <td>0</td>\n",
       "      <td>0</td>\n",
       "      <td>No</td>\n",
       "    </tr>\n",
       "    <tr>\n",
       "      <th>2</th>\n",
       "      <td>4.262962e+12</td>\n",
       "      <td>5642549</td>\n",
       "      <td>F</td>\n",
       "      <td>2016-04-29T16:19:04Z</td>\n",
       "      <td>2016-04-29T00:00:00Z</td>\n",
       "      <td>62</td>\n",
       "      <td>MATA DA PRAIA</td>\n",
       "      <td>0</td>\n",
       "      <td>0</td>\n",
       "      <td>0</td>\n",
       "      <td>0</td>\n",
       "      <td>0</td>\n",
       "      <td>0</td>\n",
       "      <td>No</td>\n",
       "    </tr>\n",
       "    <tr>\n",
       "      <th>3</th>\n",
       "      <td>8.679512e+11</td>\n",
       "      <td>5642828</td>\n",
       "      <td>F</td>\n",
       "      <td>2016-04-29T17:29:31Z</td>\n",
       "      <td>2016-04-29T00:00:00Z</td>\n",
       "      <td>8</td>\n",
       "      <td>PONTAL DE CAMBURI</td>\n",
       "      <td>0</td>\n",
       "      <td>0</td>\n",
       "      <td>0</td>\n",
       "      <td>0</td>\n",
       "      <td>0</td>\n",
       "      <td>0</td>\n",
       "      <td>No</td>\n",
       "    </tr>\n",
       "    <tr>\n",
       "      <th>4</th>\n",
       "      <td>8.841186e+12</td>\n",
       "      <td>5642494</td>\n",
       "      <td>F</td>\n",
       "      <td>2016-04-29T16:07:23Z</td>\n",
       "      <td>2016-04-29T00:00:00Z</td>\n",
       "      <td>56</td>\n",
       "      <td>JARDIM DA PENHA</td>\n",
       "      <td>0</td>\n",
       "      <td>1</td>\n",
       "      <td>1</td>\n",
       "      <td>0</td>\n",
       "      <td>0</td>\n",
       "      <td>0</td>\n",
       "      <td>No</td>\n",
       "    </tr>\n",
       "  </tbody>\n",
       "</table>\n",
       "</div>"
      ],
      "text/plain": [
       "      PatientId  AppointmentID Gender          ScheduledDay  \\\n",
       "0  2.987250e+13        5642903      F  2016-04-29T18:38:08Z   \n",
       "1  5.589978e+14        5642503      M  2016-04-29T16:08:27Z   \n",
       "2  4.262962e+12        5642549      F  2016-04-29T16:19:04Z   \n",
       "3  8.679512e+11        5642828      F  2016-04-29T17:29:31Z   \n",
       "4  8.841186e+12        5642494      F  2016-04-29T16:07:23Z   \n",
       "\n",
       "         AppointmentDay  Age      Neighbourhood  Scholarship  Hipertension  \\\n",
       "0  2016-04-29T00:00:00Z   62    JARDIM DA PENHA            0             1   \n",
       "1  2016-04-29T00:00:00Z   56    JARDIM DA PENHA            0             0   \n",
       "2  2016-04-29T00:00:00Z   62      MATA DA PRAIA            0             0   \n",
       "3  2016-04-29T00:00:00Z    8  PONTAL DE CAMBURI            0             0   \n",
       "4  2016-04-29T00:00:00Z   56    JARDIM DA PENHA            0             1   \n",
       "\n",
       "   Diabetes  Alcoholism  Handcap  SMS_received No-show  \n",
       "0         0           0        0             0      No  \n",
       "1         0           0        0             0      No  \n",
       "2         0           0        0             0      No  \n",
       "3         0           0        0             0      No  \n",
       "4         1           0        0             0      No  "
      ]
     },
     "execution_count": 5,
     "metadata": {},
     "output_type": "execute_result"
    }
   ],
   "source": [
    "# see the five rows of dataset\n",
    "df.head()"
   ]
  },
  {
   "cell_type": "code",
   "execution_count": 6,
   "id": "73939694",
   "metadata": {},
   "outputs": [
    {
     "data": {
      "text/html": [
       "<div>\n",
       "<style scoped>\n",
       "    .dataframe tbody tr th:only-of-type {\n",
       "        vertical-align: middle;\n",
       "    }\n",
       "\n",
       "    .dataframe tbody tr th {\n",
       "        vertical-align: top;\n",
       "    }\n",
       "\n",
       "    .dataframe thead th {\n",
       "        text-align: right;\n",
       "    }\n",
       "</style>\n",
       "<table border=\"1\" class=\"dataframe\">\n",
       "  <thead>\n",
       "    <tr style=\"text-align: right;\">\n",
       "      <th></th>\n",
       "      <th>PatientId</th>\n",
       "      <th>AppointmentID</th>\n",
       "      <th>Age</th>\n",
       "      <th>Scholarship</th>\n",
       "      <th>Hipertension</th>\n",
       "      <th>Diabetes</th>\n",
       "      <th>Alcoholism</th>\n",
       "      <th>Handcap</th>\n",
       "      <th>SMS_received</th>\n",
       "    </tr>\n",
       "  </thead>\n",
       "  <tbody>\n",
       "    <tr>\n",
       "      <th>count</th>\n",
       "      <td>1.105270e+05</td>\n",
       "      <td>1.105270e+05</td>\n",
       "      <td>110527.000000</td>\n",
       "      <td>110527.000000</td>\n",
       "      <td>110527.000000</td>\n",
       "      <td>110527.000000</td>\n",
       "      <td>110527.000000</td>\n",
       "      <td>110527.000000</td>\n",
       "      <td>110527.000000</td>\n",
       "    </tr>\n",
       "    <tr>\n",
       "      <th>mean</th>\n",
       "      <td>1.474963e+14</td>\n",
       "      <td>5.675305e+06</td>\n",
       "      <td>37.088874</td>\n",
       "      <td>0.098266</td>\n",
       "      <td>0.197246</td>\n",
       "      <td>0.071865</td>\n",
       "      <td>0.030400</td>\n",
       "      <td>0.022248</td>\n",
       "      <td>0.321026</td>\n",
       "    </tr>\n",
       "    <tr>\n",
       "      <th>std</th>\n",
       "      <td>2.560949e+14</td>\n",
       "      <td>7.129575e+04</td>\n",
       "      <td>23.110205</td>\n",
       "      <td>0.297675</td>\n",
       "      <td>0.397921</td>\n",
       "      <td>0.258265</td>\n",
       "      <td>0.171686</td>\n",
       "      <td>0.161543</td>\n",
       "      <td>0.466873</td>\n",
       "    </tr>\n",
       "    <tr>\n",
       "      <th>min</th>\n",
       "      <td>3.921784e+04</td>\n",
       "      <td>5.030230e+06</td>\n",
       "      <td>-1.000000</td>\n",
       "      <td>0.000000</td>\n",
       "      <td>0.000000</td>\n",
       "      <td>0.000000</td>\n",
       "      <td>0.000000</td>\n",
       "      <td>0.000000</td>\n",
       "      <td>0.000000</td>\n",
       "    </tr>\n",
       "    <tr>\n",
       "      <th>25%</th>\n",
       "      <td>4.172614e+12</td>\n",
       "      <td>5.640286e+06</td>\n",
       "      <td>18.000000</td>\n",
       "      <td>0.000000</td>\n",
       "      <td>0.000000</td>\n",
       "      <td>0.000000</td>\n",
       "      <td>0.000000</td>\n",
       "      <td>0.000000</td>\n",
       "      <td>0.000000</td>\n",
       "    </tr>\n",
       "    <tr>\n",
       "      <th>50%</th>\n",
       "      <td>3.173184e+13</td>\n",
       "      <td>5.680573e+06</td>\n",
       "      <td>37.000000</td>\n",
       "      <td>0.000000</td>\n",
       "      <td>0.000000</td>\n",
       "      <td>0.000000</td>\n",
       "      <td>0.000000</td>\n",
       "      <td>0.000000</td>\n",
       "      <td>0.000000</td>\n",
       "    </tr>\n",
       "    <tr>\n",
       "      <th>75%</th>\n",
       "      <td>9.439172e+13</td>\n",
       "      <td>5.725524e+06</td>\n",
       "      <td>55.000000</td>\n",
       "      <td>0.000000</td>\n",
       "      <td>0.000000</td>\n",
       "      <td>0.000000</td>\n",
       "      <td>0.000000</td>\n",
       "      <td>0.000000</td>\n",
       "      <td>1.000000</td>\n",
       "    </tr>\n",
       "    <tr>\n",
       "      <th>max</th>\n",
       "      <td>9.999816e+14</td>\n",
       "      <td>5.790484e+06</td>\n",
       "      <td>115.000000</td>\n",
       "      <td>1.000000</td>\n",
       "      <td>1.000000</td>\n",
       "      <td>1.000000</td>\n",
       "      <td>1.000000</td>\n",
       "      <td>4.000000</td>\n",
       "      <td>1.000000</td>\n",
       "    </tr>\n",
       "  </tbody>\n",
       "</table>\n",
       "</div>"
      ],
      "text/plain": [
       "          PatientId  AppointmentID            Age    Scholarship  \\\n",
       "count  1.105270e+05   1.105270e+05  110527.000000  110527.000000   \n",
       "mean   1.474963e+14   5.675305e+06      37.088874       0.098266   \n",
       "std    2.560949e+14   7.129575e+04      23.110205       0.297675   \n",
       "min    3.921784e+04   5.030230e+06      -1.000000       0.000000   \n",
       "25%    4.172614e+12   5.640286e+06      18.000000       0.000000   \n",
       "50%    3.173184e+13   5.680573e+06      37.000000       0.000000   \n",
       "75%    9.439172e+13   5.725524e+06      55.000000       0.000000   \n",
       "max    9.999816e+14   5.790484e+06     115.000000       1.000000   \n",
       "\n",
       "        Hipertension       Diabetes     Alcoholism        Handcap  \\\n",
       "count  110527.000000  110527.000000  110527.000000  110527.000000   \n",
       "mean        0.197246       0.071865       0.030400       0.022248   \n",
       "std         0.397921       0.258265       0.171686       0.161543   \n",
       "min         0.000000       0.000000       0.000000       0.000000   \n",
       "25%         0.000000       0.000000       0.000000       0.000000   \n",
       "50%         0.000000       0.000000       0.000000       0.000000   \n",
       "75%         0.000000       0.000000       0.000000       0.000000   \n",
       "max         1.000000       1.000000       1.000000       4.000000   \n",
       "\n",
       "        SMS_received  \n",
       "count  110527.000000  \n",
       "mean        0.321026  \n",
       "std         0.466873  \n",
       "min         0.000000  \n",
       "25%         0.000000  \n",
       "50%         0.000000  \n",
       "75%         1.000000  \n",
       "max         1.000000  "
      ]
     },
     "execution_count": 6,
     "metadata": {},
     "output_type": "execute_result"
    }
   ],
   "source": [
    "# see decribe and some statics\n",
    "df.describe()"
   ]
  },
  {
   "cell_type": "code",
   "execution_count": 7,
   "id": "a684d808",
   "metadata": {},
   "outputs": [
    {
     "data": {
      "text/plain": [
       "(110527, 14)"
      ]
     },
     "execution_count": 7,
     "metadata": {},
     "output_type": "execute_result"
    }
   ],
   "source": [
    "# i want now how many row and columns i have\n",
    "df.shape"
   ]
  },
  {
   "cell_type": "code",
   "execution_count": 8,
   "id": "9a9245e9",
   "metadata": {
    "scrolled": true
   },
   "outputs": [
    {
     "data": {
      "text/plain": [
       "PatientId         float64\n",
       "AppointmentID       int64\n",
       "Gender             object\n",
       "ScheduledDay       object\n",
       "AppointmentDay     object\n",
       "Age                 int64\n",
       "Neighbourhood      object\n",
       "Scholarship         int64\n",
       "Hipertension        int64\n",
       "Diabetes            int64\n",
       "Alcoholism          int64\n",
       "Handcap             int64\n",
       "SMS_received        int64\n",
       "No-show            object\n",
       "dtype: object"
      ]
     },
     "execution_count": 8,
     "metadata": {},
     "output_type": "execute_result"
    }
   ],
   "source": [
    "# see the data types of columns\n",
    "df.dtypes"
   ]
  },
  {
   "cell_type": "markdown",
   "id": "a8718d56",
   "metadata": {},
   "source": [
    "# 3 Clean"
   ]
  },
  {
   "cell_type": "code",
   "execution_count": 9,
   "id": "098131ef",
   "metadata": {},
   "outputs": [],
   "source": [
    "# i convert to string to apply the change values\n",
    "df['Scholarship'] = df['Scholarship'].apply(str)"
   ]
  },
  {
   "cell_type": "code",
   "execution_count": 10,
   "id": "51ffe03f",
   "metadata": {},
   "outputs": [],
   "source": [
    "# change the value of binary number to understand it\n",
    "df['Scholarship']=df['Scholarship'].replace({'1' : 'true' , '0' : 'false' })"
   ]
  },
  {
   "cell_type": "code",
   "execution_count": 11,
   "id": "003baadd",
   "metadata": {},
   "outputs": [],
   "source": [
    "# drop columns that no interst\n",
    "drop_columns = ['PatientId','AppointmentID','AppointmentDay','Alcoholism','Handcap']\n",
    "for c in drop_columns:\n",
    "    del df[c]"
   ]
  },
  {
   "cell_type": "code",
   "execution_count": 12,
   "id": "5f39e74e",
   "metadata": {},
   "outputs": [
    {
     "data": {
      "text/plain": [
       "(110527, 9)"
      ]
     },
     "execution_count": 12,
     "metadata": {},
     "output_type": "execute_result"
    }
   ],
   "source": [
    "# icheck the columns i have now\n",
    "df.shape"
   ]
  },
  {
   "cell_type": "code",
   "execution_count": 13,
   "id": "6eb6da39",
   "metadata": {},
   "outputs": [
    {
     "name": "stdout",
     "output_type": "stream",
     "text": [
      "<class 'pandas.core.frame.DataFrame'>\n",
      "RangeIndex: 110527 entries, 0 to 110526\n",
      "Data columns (total 9 columns):\n",
      " #   Column         Non-Null Count   Dtype \n",
      "---  ------         --------------   ----- \n",
      " 0   Gender         110527 non-null  object\n",
      " 1   ScheduledDay   110527 non-null  object\n",
      " 2   Age            110527 non-null  int64 \n",
      " 3   Neighbourhood  110527 non-null  object\n",
      " 4   Scholarship    110527 non-null  object\n",
      " 5   Hipertension   110527 non-null  int64 \n",
      " 6   Diabetes       110527 non-null  int64 \n",
      " 7   SMS_received   110527 non-null  int64 \n",
      " 8   No-show        110527 non-null  object\n",
      "dtypes: int64(4), object(5)\n",
      "memory usage: 7.6+ MB\n"
     ]
    }
   ],
   "source": [
    "# check any miss values\n",
    "df.info()"
   ]
  },
  {
   "cell_type": "code",
   "execution_count": 14,
   "id": "ecc8c309",
   "metadata": {},
   "outputs": [
    {
     "data": {
      "text/plain": [
       "Gender           0\n",
       "ScheduledDay     0\n",
       "Age              0\n",
       "Neighbourhood    0\n",
       "Scholarship      0\n",
       "Hipertension     0\n",
       "Diabetes         0\n",
       "SMS_received     0\n",
       "No-show          0\n",
       "dtype: int64"
      ]
     },
     "execution_count": 14,
     "metadata": {},
     "output_type": "execute_result"
    }
   ],
   "source": [
    "# i check any miss values again\n",
    "\n",
    "df.isnull().sum()\n"
   ]
  },
  {
   "cell_type": "code",
   "execution_count": 15,
   "id": "9a7a1b8c",
   "metadata": {},
   "outputs": [],
   "source": [
    "# i save my dataset copy \n",
    "df1=df.copy()"
   ]
  },
  {
   "cell_type": "code",
   "execution_count": 16,
   "id": "86e3efbf",
   "metadata": {},
   "outputs": [],
   "source": [
    "# rename No-show column to more clearly \n",
    "df=df.rename(columns={'No-show':'is_attend'})"
   ]
  },
  {
   "cell_type": "code",
   "execution_count": 17,
   "id": "ecf131f5",
   "metadata": {},
   "outputs": [],
   "source": [
    "# i exctract year only here from string\n",
    "df['year']=df['ScheduledDay'].apply(lambda x: x.split('-')[0])"
   ]
  },
  {
   "cell_type": "code",
   "execution_count": 18,
   "id": "f1d7bf5d",
   "metadata": {},
   "outputs": [],
   "source": [
    "# i convert year to int\n",
    "df['year'] = df['year'].apply(int)\n"
   ]
  },
  {
   "cell_type": "code",
   "execution_count": 19,
   "id": "78c9f6d5",
   "metadata": {},
   "outputs": [],
   "source": [
    "# i drop this columns because i get the year\n",
    "del df['ScheduledDay']"
   ]
  },
  {
   "cell_type": "code",
   "execution_count": 20,
   "id": "b91d1135",
   "metadata": {},
   "outputs": [],
   "source": [
    "# i change values to [yes] -- > mean is attend\n",
    "df['is_attend'] = df['is_attend'].replace({'No':'yes' , 'Yes':'no'})"
   ]
  },
  {
   "cell_type": "code",
   "execution_count": 21,
   "id": "7dff84c7",
   "metadata": {},
   "outputs": [
    {
     "data": {
      "text/plain": [
       "0          true\n",
       "1         false\n",
       "2         false\n",
       "3         false\n",
       "4          true\n",
       "          ...  \n",
       "110522    false\n",
       "110523    false\n",
       "110524    false\n",
       "110525    false\n",
       "110526    false\n",
       "Name: Hipertension, Length: 110527, dtype: object"
      ]
     },
     "execution_count": 21,
     "metadata": {},
     "output_type": "execute_result"
    }
   ],
   "source": [
    "# i change all values from binary to understand it\n",
    "df['Hipertension'] = df['Hipertension'].apply(str)\n",
    "\n",
    "df['Hipertension']=df['Hipertension'].replace({'1' : 'true' , '0' : 'false' })\n",
    "\n",
    "df['Hipertension']"
   ]
  },
  {
   "cell_type": "code",
   "execution_count": 22,
   "id": "addc6ec9",
   "metadata": {
    "scrolled": true
   },
   "outputs": [
    {
     "data": {
      "text/plain": [
       "0         false\n",
       "1         false\n",
       "2         false\n",
       "3         false\n",
       "4          true\n",
       "          ...  \n",
       "110522    false\n",
       "110523    false\n",
       "110524    false\n",
       "110525    false\n",
       "110526    false\n",
       "Name: Diabetes, Length: 110527, dtype: object"
      ]
     },
     "execution_count": 22,
     "metadata": {},
     "output_type": "execute_result"
    }
   ],
   "source": [
    "# i change all values from binary to understand it\n",
    "\n",
    "df['Diabetes'] = df['Diabetes'].apply(str)\n",
    "\n",
    "df['Diabetes']=df['Diabetes'].replace({'1' : 'true' , '0' : 'false' })\n",
    "\n",
    "df['Diabetes']"
   ]
  },
  {
   "cell_type": "code",
   "execution_count": 23,
   "id": "7f489033",
   "metadata": {},
   "outputs": [
    {
     "data": {
      "text/html": [
       "<div>\n",
       "<style scoped>\n",
       "    .dataframe tbody tr th:only-of-type {\n",
       "        vertical-align: middle;\n",
       "    }\n",
       "\n",
       "    .dataframe tbody tr th {\n",
       "        vertical-align: top;\n",
       "    }\n",
       "\n",
       "    .dataframe thead th {\n",
       "        text-align: right;\n",
       "    }\n",
       "</style>\n",
       "<table border=\"1\" class=\"dataframe\">\n",
       "  <thead>\n",
       "    <tr style=\"text-align: right;\">\n",
       "      <th></th>\n",
       "      <th>Gender</th>\n",
       "      <th>Age</th>\n",
       "      <th>Neighbourhood</th>\n",
       "      <th>Scholarship</th>\n",
       "      <th>Hipertension</th>\n",
       "      <th>Diabetes</th>\n",
       "      <th>SMS_received</th>\n",
       "      <th>is_attend</th>\n",
       "      <th>year</th>\n",
       "    </tr>\n",
       "  </thead>\n",
       "  <tbody>\n",
       "    <tr>\n",
       "      <th>0</th>\n",
       "      <td>F</td>\n",
       "      <td>62</td>\n",
       "      <td>JARDIM DA PENHA</td>\n",
       "      <td>false</td>\n",
       "      <td>true</td>\n",
       "      <td>false</td>\n",
       "      <td>0</td>\n",
       "      <td>yes</td>\n",
       "      <td>2016</td>\n",
       "    </tr>\n",
       "    <tr>\n",
       "      <th>1</th>\n",
       "      <td>M</td>\n",
       "      <td>56</td>\n",
       "      <td>JARDIM DA PENHA</td>\n",
       "      <td>false</td>\n",
       "      <td>false</td>\n",
       "      <td>false</td>\n",
       "      <td>0</td>\n",
       "      <td>yes</td>\n",
       "      <td>2016</td>\n",
       "    </tr>\n",
       "    <tr>\n",
       "      <th>2</th>\n",
       "      <td>F</td>\n",
       "      <td>62</td>\n",
       "      <td>MATA DA PRAIA</td>\n",
       "      <td>false</td>\n",
       "      <td>false</td>\n",
       "      <td>false</td>\n",
       "      <td>0</td>\n",
       "      <td>yes</td>\n",
       "      <td>2016</td>\n",
       "    </tr>\n",
       "    <tr>\n",
       "      <th>3</th>\n",
       "      <td>F</td>\n",
       "      <td>8</td>\n",
       "      <td>PONTAL DE CAMBURI</td>\n",
       "      <td>false</td>\n",
       "      <td>false</td>\n",
       "      <td>false</td>\n",
       "      <td>0</td>\n",
       "      <td>yes</td>\n",
       "      <td>2016</td>\n",
       "    </tr>\n",
       "    <tr>\n",
       "      <th>4</th>\n",
       "      <td>F</td>\n",
       "      <td>56</td>\n",
       "      <td>JARDIM DA PENHA</td>\n",
       "      <td>false</td>\n",
       "      <td>true</td>\n",
       "      <td>true</td>\n",
       "      <td>0</td>\n",
       "      <td>yes</td>\n",
       "      <td>2016</td>\n",
       "    </tr>\n",
       "  </tbody>\n",
       "</table>\n",
       "</div>"
      ],
      "text/plain": [
       "  Gender  Age      Neighbourhood Scholarship Hipertension Diabetes  \\\n",
       "0      F   62    JARDIM DA PENHA       false         true    false   \n",
       "1      M   56    JARDIM DA PENHA       false        false    false   \n",
       "2      F   62      MATA DA PRAIA       false        false    false   \n",
       "3      F    8  PONTAL DE CAMBURI       false        false    false   \n",
       "4      F   56    JARDIM DA PENHA       false         true     true   \n",
       "\n",
       "   SMS_received is_attend  year  \n",
       "0             0       yes  2016  \n",
       "1             0       yes  2016  \n",
       "2             0       yes  2016  \n",
       "3             0       yes  2016  \n",
       "4             0       yes  2016  "
      ]
     },
     "execution_count": 23,
     "metadata": {},
     "output_type": "execute_result"
    }
   ],
   "source": [
    "# i check my dataset\n",
    "\n",
    "df.head()"
   ]
  },
  {
   "cell_type": "markdown",
   "id": "a88e331b",
   "metadata": {},
   "source": [
    "# <p id='Q1'> َQ1 : Are those who have diseases such as diabetes and Hipertension committed to the appointment more than others?  </p>"
   ]
  },
  {
   "cell_type": "code",
   "execution_count": 24,
   "id": "173d8afb",
   "metadata": {},
   "outputs": [
    {
     "data": {
      "text/plain": [
       "87269"
      ]
     },
     "execution_count": 24,
     "metadata": {},
     "output_type": "execute_result"
    }
   ],
   "source": [
    "# i save number of all no have diseases\n",
    "noـdiseases = df[(df.Diabetes != 'true') & (df.Hipertension != \"true\" )]\n",
    "\n",
    "noـdiseases.count()['Gender']"
   ]
  },
  {
   "cell_type": "code",
   "execution_count": 25,
   "id": "5ec9a95a",
   "metadata": {},
   "outputs": [
    {
     "data": {
      "text/plain": [
       "is_attend\n",
       "no     18258\n",
       "yes    69011\n",
       "Name: Gender, dtype: int64"
      ]
     },
     "execution_count": 25,
     "metadata": {},
     "output_type": "execute_result"
    }
   ],
   "source": [
    "# i check  all no have diseases is attend ?\n",
    "\n",
    "df[(df.Hipertension != 'true')&(df.Diabetes != 'true')].groupby('is_attend').count()['Gender']"
   ]
  },
  {
   "cell_type": "code",
   "execution_count": 26,
   "id": "6dbca930",
   "metadata": {},
   "outputs": [
    {
     "data": {
      "text/plain": [
       "is_attend\n",
       "no     1141\n",
       "yes    5345\n",
       "Name: Gender, dtype: int64"
      ]
     },
     "execution_count": 26,
     "metadata": {},
     "output_type": "execute_result"
    }
   ],
   "source": [
    "# i check  all  have diseases is attend ?\n",
    "\n",
    "df[(df.Diabetes == 'true')&(df.Hipertension == \"true\" )].groupby('is_attend').count()['Gender']"
   ]
  },
  {
   "cell_type": "code",
   "execution_count": 27,
   "id": "49acfe3b",
   "metadata": {},
   "outputs": [],
   "source": [
    "# i save kind plot to ' bar'\n",
    "kbar='bar'"
   ]
  },
  {
   "cell_type": "markdown",
   "id": "ffcfc207",
   "metadata": {},
   "source": [
    "## who have a Diabetes and Hipertension\n"
   ]
  },
  {
   "cell_type": "code",
   "execution_count": 73,
   "id": "8139056c",
   "metadata": {
    "scrolled": true
   },
   "outputs": [
    {
     "data": {
      "text/plain": [
       "Text(0, 0.5, 'Number of attendees')"
      ]
     },
     "execution_count": 73,
     "metadata": {},
     "output_type": "execute_result"
    },
    {
     "data": {
      "image/png": "[encoded data removed]",
      "text/plain": [
       "<Figure size 432x288 with 1 Axes>"
      ]
     },
     "metadata": {},
     "output_type": "display_data"
    }
   ],
   "source": [
    "# idraw the who have a Diabetes and Hipertension is attend or no \n",
    "df_draw=df[(df.Diabetes == 'true')&(df.Hipertension == \"true\" )].groupby('is_attend').count()['Gender']\n",
    "\n",
    "\n",
    "df_draw.plot(kind=kbar)\n",
    "plt.title('who have a Diabetes and Hipertension to attend  ')\n",
    "plt.xlabel('is attend ? ')\n",
    "plt.ylabel('Number of attendees')\n"
   ]
  },
  {
   "cell_type": "markdown",
   "id": "4fa45401",
   "metadata": {},
   "source": [
    "## who dosen't have a Diabetes and Hipertension\n"
   ]
  },
  {
   "cell_type": "code",
   "execution_count": 72,
   "id": "031d809d",
   "metadata": {},
   "outputs": [
    {
     "data": {
      "text/plain": [
       "Text(0, 0.5, 'Number of attendees')"
      ]
     },
     "execution_count": 72,
     "metadata": {},
     "output_type": "execute_result"
    },
    {
     "data": {
      "image/png": "[encoded data removed]",
      "text/plain": [
       "<Figure size 432x288 with 1 Axes>"
      ]
     },
     "metadata": {},
     "output_type": "display_data"
    }
   ],
   "source": [
    "# idraw the who doen't have a Diabetes and Hipertension is attend or no \n",
    "\n",
    "df_draw1=df[(df.Diabetes != 'true')&(df.Hipertension != \"true\" )].groupby('is_attend').count()['Gender']\n",
    "\n",
    "\n",
    "df_draw1.plot(kind=kbar)\n",
    "plt.title('who dosent have a Diabetes and Hipertension to attend  ')\n",
    "plt.xlabel('is attend ? ')\n",
    "plt.ylabel('Number of attendees')\n"
   ]
  },
  {
   "cell_type": "markdown",
   "id": "fbec19ff",
   "metadata": {},
   "source": [
    "#  </hr>\n",
    "\n",
    "# <div style='color : green'> question answer ONE </div>\n",
    "\n",
    "\n",
    "### <p style='color : green'> Those who do not have any of the diseases attend more, so the disease has nothing to do with to attend </p>\n",
    "\n",
    "\n",
    "\n",
    "#  </hr>"
   ]
  },
  {
   "cell_type": "markdown",
   "id": "afc29882",
   "metadata": {},
   "source": [
    "# <p id='Q2'> Q2 : Is the one who has a Scholarship and attended the appointment more than the one who does not have? </p>"
   ]
  },
  {
   "cell_type": "code",
   "execution_count": 30,
   "id": "954e4d75",
   "metadata": {},
   "outputs": [
    {
     "data": {
      "text/plain": [
       "is_attend\n",
       "no     2578\n",
       "yes    8283\n",
       "Name: Gender, dtype: int64"
      ]
     },
     "execution_count": 30,
     "metadata": {},
     "output_type": "execute_result"
    }
   ],
   "source": [
    "# i check number of all who have Scholarship is attend ?\n",
    "\n",
    "\n",
    "df[df.Scholarship == 'true'].groupby('is_attend').count()['Gender']"
   ]
  },
  {
   "cell_type": "code",
   "execution_count": 31,
   "id": "3d8f882a",
   "metadata": {},
   "outputs": [
    {
     "data": {
      "text/plain": [
       "is_attend\n",
       "no     19741\n",
       "yes    79925\n",
       "Name: Gender, dtype: int64"
      ]
     },
     "execution_count": 31,
     "metadata": {},
     "output_type": "execute_result"
    }
   ],
   "source": [
    "# i check number of all who doesn't have Scholarship is attend ?\n",
    "\n",
    "df[df.Scholarship != 'true'].groupby('is_attend').count()['Gender']"
   ]
  },
  {
   "cell_type": "markdown",
   "id": "bc18052c",
   "metadata": {},
   "source": [
    "# <div style ='color : blue' >who has a Scholarship"
   ]
  },
  {
   "cell_type": "code",
   "execution_count": 71,
   "id": "fdb18bcf",
   "metadata": {},
   "outputs": [
    {
     "data": {
      "text/plain": [
       "Text(0, 0.5, 'Number of attendees')"
      ]
     },
     "execution_count": 71,
     "metadata": {},
     "output_type": "execute_result"
    },
    {
     "data": {
      "image/png": "[encoded data removed]",
      "text/plain": [
       "<Figure size 432x288 with 1 Axes>"
      ]
     },
     "metadata": {},
     "output_type": "display_data"
    }
   ],
   "source": [
    "# i draw of all who have Scholarship is attend ?\n",
    "\n",
    "df_draw=df[df.Scholarship == 'true'].groupby('is_attend').count()['Gender']\n",
    "\n",
    "\n",
    "df_draw.plot(kind=kbar)\n",
    "plt.title('who have a Scholarship to attend  ')\n",
    "plt.xlabel('is attend ? ')\n",
    "plt.ylabel('Number of attendees')\n"
   ]
  },
  {
   "cell_type": "markdown",
   "id": "f8d0a25b",
   "metadata": {},
   "source": [
    "# <div style ='color : red' >who doesn't have  a Scholarship"
   ]
  },
  {
   "cell_type": "code",
   "execution_count": 70,
   "id": "2a5dfb52",
   "metadata": {},
   "outputs": [
    {
     "data": {
      "text/plain": [
       "Text(0, 0.5, 'Number of attendees')"
      ]
     },
     "execution_count": 70,
     "metadata": {},
     "output_type": "execute_result"
    },
    {
     "data": {
      "image/png": "[encoded data removed]",
      "text/plain": [
       "<Figure size 432x288 with 1 Axes>"
      ]
     },
     "metadata": {},
     "output_type": "display_data"
    }
   ],
   "source": [
    "# i draw  of all who dosen't have Scholarship is attend ?\n",
    "\n",
    "df_draw=df[df.Scholarship != 'true'].groupby('is_attend').count()['Gender']\n",
    "\n",
    "\n",
    "df_draw.plot(kind=kbar)\n",
    "\n",
    "plt.title('who doesnt have a Scholarship to attend  ')\n",
    "plt.xlabel('is attend ? ')\n",
    "plt.ylabel('Number of attendees')\n"
   ]
  },
  {
   "cell_type": "markdown",
   "id": "67c74e31",
   "metadata": {},
   "source": [
    "# </hr>\n",
    "\n",
    "# <div style='color : green'> question answer TWO </div>\n",
    "\n",
    "\n",
    "### <p style='color : green'> Those who dosen't have a Scholarship attend more , so the Scholarship has nothing to do with to attend </p>\n",
    "\n",
    "\n",
    "\n",
    "# </hr>"
   ]
  },
  {
   "cell_type": "code",
   "execution_count": 34,
   "id": "77d1917c",
   "metadata": {},
   "outputs": [],
   "source": [
    "# i save the kind plot pie -- > to kpie \n",
    "kpie = 'pie'"
   ]
  },
  {
   "cell_type": "markdown",
   "id": "5fd1eb0e",
   "metadata": {},
   "source": [
    "# <p id='Q3'> Q3 : Do those who received text messages are more than attended?  </p>"
   ]
  },
  {
   "cell_type": "code",
   "execution_count": 35,
   "id": "5489f8b8",
   "metadata": {},
   "outputs": [
    {
     "data": {
      "text/html": [
       "<div>\n",
       "<style scoped>\n",
       "    .dataframe tbody tr th:only-of-type {\n",
       "        vertical-align: middle;\n",
       "    }\n",
       "\n",
       "    .dataframe tbody tr th {\n",
       "        vertical-align: top;\n",
       "    }\n",
       "\n",
       "    .dataframe thead th {\n",
       "        text-align: right;\n",
       "    }\n",
       "</style>\n",
       "<table border=\"1\" class=\"dataframe\">\n",
       "  <thead>\n",
       "    <tr style=\"text-align: right;\">\n",
       "      <th></th>\n",
       "      <th>Gender</th>\n",
       "      <th>Age</th>\n",
       "      <th>Neighbourhood</th>\n",
       "      <th>Scholarship</th>\n",
       "      <th>Hipertension</th>\n",
       "      <th>Diabetes</th>\n",
       "      <th>SMS_received</th>\n",
       "      <th>is_attend</th>\n",
       "      <th>year</th>\n",
       "    </tr>\n",
       "  </thead>\n",
       "  <tbody>\n",
       "    <tr>\n",
       "      <th>0</th>\n",
       "      <td>F</td>\n",
       "      <td>62</td>\n",
       "      <td>JARDIM DA PENHA</td>\n",
       "      <td>false</td>\n",
       "      <td>true</td>\n",
       "      <td>false</td>\n",
       "      <td>0</td>\n",
       "      <td>yes</td>\n",
       "      <td>2016</td>\n",
       "    </tr>\n",
       "    <tr>\n",
       "      <th>1</th>\n",
       "      <td>M</td>\n",
       "      <td>56</td>\n",
       "      <td>JARDIM DA PENHA</td>\n",
       "      <td>false</td>\n",
       "      <td>false</td>\n",
       "      <td>false</td>\n",
       "      <td>0</td>\n",
       "      <td>yes</td>\n",
       "      <td>2016</td>\n",
       "    </tr>\n",
       "    <tr>\n",
       "      <th>2</th>\n",
       "      <td>F</td>\n",
       "      <td>62</td>\n",
       "      <td>MATA DA PRAIA</td>\n",
       "      <td>false</td>\n",
       "      <td>false</td>\n",
       "      <td>false</td>\n",
       "      <td>0</td>\n",
       "      <td>yes</td>\n",
       "      <td>2016</td>\n",
       "    </tr>\n",
       "    <tr>\n",
       "      <th>3</th>\n",
       "      <td>F</td>\n",
       "      <td>8</td>\n",
       "      <td>PONTAL DE CAMBURI</td>\n",
       "      <td>false</td>\n",
       "      <td>false</td>\n",
       "      <td>false</td>\n",
       "      <td>0</td>\n",
       "      <td>yes</td>\n",
       "      <td>2016</td>\n",
       "    </tr>\n",
       "    <tr>\n",
       "      <th>4</th>\n",
       "      <td>F</td>\n",
       "      <td>56</td>\n",
       "      <td>JARDIM DA PENHA</td>\n",
       "      <td>false</td>\n",
       "      <td>true</td>\n",
       "      <td>true</td>\n",
       "      <td>0</td>\n",
       "      <td>yes</td>\n",
       "      <td>2016</td>\n",
       "    </tr>\n",
       "  </tbody>\n",
       "</table>\n",
       "</div>"
      ],
      "text/plain": [
       "  Gender  Age      Neighbourhood Scholarship Hipertension Diabetes  \\\n",
       "0      F   62    JARDIM DA PENHA       false         true    false   \n",
       "1      M   56    JARDIM DA PENHA       false        false    false   \n",
       "2      F   62      MATA DA PRAIA       false        false    false   \n",
       "3      F    8  PONTAL DE CAMBURI       false        false    false   \n",
       "4      F   56    JARDIM DA PENHA       false         true     true   \n",
       "\n",
       "   SMS_received is_attend  year  \n",
       "0             0       yes  2016  \n",
       "1             0       yes  2016  \n",
       "2             0       yes  2016  \n",
       "3             0       yes  2016  \n",
       "4             0       yes  2016  "
      ]
     },
     "execution_count": 35,
     "metadata": {},
     "output_type": "execute_result"
    }
   ],
   "source": [
    "# i run this because near to check quick\n",
    "df.head()"
   ]
  },
  {
   "cell_type": "code",
   "execution_count": 36,
   "id": "2a682ae8",
   "metadata": {},
   "outputs": [
    {
     "data": {
      "text/plain": [
       "is_attend\n",
       "no      9784\n",
       "yes    25698\n",
       "Name: Gender, dtype: int64"
      ]
     },
     "execution_count": 36,
     "metadata": {},
     "output_type": "execute_result"
    }
   ],
   "source": [
    "# i check number of all who received text messages is attend \n",
    "\n",
    "df[df.SMS_received >= 1].groupby('is_attend').count()['Gender']"
   ]
  },
  {
   "cell_type": "markdown",
   "id": "4754d403",
   "metadata": {},
   "source": [
    "# who rescive message "
   ]
  },
  {
   "cell_type": "code",
   "execution_count": 69,
   "id": "81b2fa77",
   "metadata": {},
   "outputs": [
    {
     "data": {
      "text/plain": [
       "<matplotlib.legend.Legend at 0x7ff78a7c30d0>"
      ]
     },
     "execution_count": 69,
     "metadata": {},
     "output_type": "execute_result"
    },
    {
     "data": {
      "image/png": "[encoded data removed]",
      "text/plain": [
       "<Figure size 576x576 with 1 Axes>"
      ]
     },
     "metadata": {},
     "output_type": "display_data"
    }
   ],
   "source": [
    "# i draw of all who received text messages \n",
    "\n",
    "\n",
    "df_draw = df[df.SMS_received >= 1].groupby('is_attend').count()['Gender']\n",
    "df_draw.plot(kind=kpie,figsize=(8,8),colors=['red','blue'],autopct='%1.1f%%', fontsize=17);\n",
    "\n",
    "plt.title('who receive text messages to attend  ')\n",
    "plt.xlabel('is attend ? ')\n",
    "plt.ylabel('Number of attendees')\n",
    "plt.legend()\n"
   ]
  },
  {
   "cell_type": "markdown",
   "id": "cd236f59",
   "metadata": {},
   "source": [
    "# who don't rescive message "
   ]
  },
  {
   "cell_type": "code",
   "execution_count": 38,
   "id": "253da4f9",
   "metadata": {},
   "outputs": [
    {
     "data": {
      "text/plain": [
       "is_attend\n",
       "no     12535\n",
       "yes    62510\n",
       "Name: Gender, dtype: int64"
      ]
     },
     "execution_count": 38,
     "metadata": {},
     "output_type": "execute_result"
    }
   ],
   "source": [
    "# i check number of all who don't received text messages is attend \n",
    "\n",
    "df[df.SMS_received < 1].groupby('is_attend').count()['Gender']"
   ]
  },
  {
   "cell_type": "code",
   "execution_count": 68,
   "id": "57366c8d",
   "metadata": {},
   "outputs": [
    {
     "data": {
      "text/plain": [
       "<matplotlib.legend.Legend at 0x7ff78f193a10>"
      ]
     },
     "execution_count": 68,
     "metadata": {},
     "output_type": "execute_result"
    },
    {
     "data": {
      "image/png": "[encoded data removed]",
      "text/plain": [
       "<Figure size 576x576 with 1 Axes>"
      ]
     },
     "metadata": {},
     "output_type": "display_data"
    }
   ],
   "source": [
    "# i draw  of all who don't received text messages is attend \n",
    "\n",
    "df_draw = df[df.SMS_received < 1].groupby('is_attend').count()['Gender']\n",
    "df_draw.plot(kind=kpie,figsize=(8,8),colors=['red','blue'],autopct='%1.1f%%', fontsize=17)\n",
    "plt.title('who did not receive text messages to attend  ')\n",
    "plt.xlabel('is attend ? ')\n",
    "plt.ylabel('Number of attendees')\n",
    "plt.legend()\n"
   ]
  },
  {
   "cell_type": "markdown",
   "id": "e144395c",
   "metadata": {},
   "source": [
    "# <hr>\n",
    "\n",
    "# <div style='color : green'> question answer THREE </div>\n",
    "\n",
    "\n",
    "### <p style='color : green'> Those who didn't receive a message attend more , so the receive a message has nothing to do with to attend </p>\n",
    "\n",
    "\n",
    "# </hr>"
   ]
  },
  {
   "cell_type": "markdown",
   "id": "b3ba903f",
   "metadata": {},
   "source": [
    "# <p id='Q4'> Q4 : Which neighborhood is the most attended?   </p>"
   ]
  },
  {
   "cell_type": "code",
   "execution_count": 40,
   "id": "9aac77b9",
   "metadata": {},
   "outputs": [
    {
     "data": {
      "text/plain": [
       "is_attend\n",
       "no     22319\n",
       "yes    88208\n",
       "Name: Neighbourhood, dtype: int64"
      ]
     },
     "execution_count": 40,
     "metadata": {},
     "output_type": "execute_result"
    }
   ],
   "source": [
    "#how many number of all who attend and not attend \n",
    "df.groupby(\"is_attend\")['Neighbourhood'].count()"
   ]
  },
  {
   "cell_type": "code",
   "execution_count": 41,
   "id": "7752f66d",
   "metadata": {},
   "outputs": [
    {
     "data": {
      "text/plain": [
       "Neighbourhood\n",
       "JARDIM CAMBURI       6252\n",
       "MARIA ORTIZ          4586\n",
       "RESISTÊNCIA          3525\n",
       "JARDIM DA PENHA      3246\n",
       "SANTA MARTHA         2635\n",
       "                     ... \n",
       "PONTAL DE CAMBURI      57\n",
       "ILHA DO BOI            32\n",
       "ILHA DO FRADE           8\n",
       "AEROPORTO               7\n",
       "PARQUE INDUSTRIAL       1\n",
       "Name: is_attend, Length: 80, dtype: int64"
      ]
     },
     "execution_count": 41,
     "metadata": {},
     "output_type": "execute_result"
    }
   ],
   "source": [
    "# iwant see top 3 of Neighbourhood is attend\n",
    "df[df['is_attend']=='yes'].groupby(\"Neighbourhood\")['is_attend'].count().sort_values(ascending=False)"
   ]
  },
  {
   "cell_type": "code",
   "execution_count": 42,
   "id": "022ebc16",
   "metadata": {},
   "outputs": [],
   "source": [
    "# i save in countplot the sort values of top Neighbourhood is attend\n",
    "countplot = df[df['is_attend']=='yes'].groupby(\"Neighbourhood\")['is_attend'].count().sort_values(ascending=False)"
   ]
  },
  {
   "cell_type": "code",
   "execution_count": 43,
   "id": "ce27baae",
   "metadata": {},
   "outputs": [],
   "source": [
    "# take only top 10 of Neighbourhood is attend\n",
    "top10 = countplot[0:10]"
   ]
  },
  {
   "cell_type": "markdown",
   "id": "375829af",
   "metadata": {},
   "source": [
    "# <div style=\"color : blue\">Top 10 of the most Neighbourhood attended</div>"
   ]
  },
  {
   "cell_type": "code",
   "execution_count": 66,
   "id": "7d99bfdb",
   "metadata": {},
   "outputs": [
    {
     "data": {
      "text/plain": [
       "Text(0, 0.5, 'Number of attendees')"
      ]
     },
     "execution_count": 66,
     "metadata": {},
     "output_type": "execute_result"
    },
    {
     "data": {
      "image/png": "[encoded data removed]",
      "text/plain": [
       "<Figure size 432x288 with 1 Axes>"
      ]
     },
     "metadata": {},
     "output_type": "display_data"
    }
   ],
   "source": [
    "# i draw top 10 of Neighbourhood is attend\n",
    "top10.plot(kind=kbar)\n",
    "plt.title('Top 10 of the most Neighbourhood attended ')\n",
    "plt.xlabel('Name of Neighbourhood ')\n",
    "plt.ylabel('Number of attendees')\n"
   ]
  },
  {
   "cell_type": "markdown",
   "id": "8c5b15c3",
   "metadata": {},
   "source": [
    "# <hr>\n",
    "\n",
    "# <div style='color : green'> question answer FOUR </div>\n",
    "\n",
    "\n",
    "### <p style='color : green'> JARDIM CAMBURI It is the most attended neighborhood  </p>\n",
    "\n",
    "\n",
    "# </hr>"
   ]
  },
  {
   "cell_type": "markdown",
   "id": "f05280b5",
   "metadata": {},
   "source": [
    "# <p id='Q5'> Q5 : What is the average age of the most attended? and what is the gender ?</p>"
   ]
  },
  {
   "cell_type": "code",
   "execution_count": 45,
   "id": "b232332b",
   "metadata": {},
   "outputs": [
    {
     "data": {
      "text/html": [
       "<div>\n",
       "<style scoped>\n",
       "    .dataframe tbody tr th:only-of-type {\n",
       "        vertical-align: middle;\n",
       "    }\n",
       "\n",
       "    .dataframe tbody tr th {\n",
       "        vertical-align: top;\n",
       "    }\n",
       "\n",
       "    .dataframe thead th {\n",
       "        text-align: right;\n",
       "    }\n",
       "</style>\n",
       "<table border=\"1\" class=\"dataframe\">\n",
       "  <thead>\n",
       "    <tr style=\"text-align: right;\">\n",
       "      <th></th>\n",
       "      <th>Gender</th>\n",
       "      <th>Age</th>\n",
       "      <th>Neighbourhood</th>\n",
       "      <th>Scholarship</th>\n",
       "      <th>Hipertension</th>\n",
       "      <th>Diabetes</th>\n",
       "      <th>SMS_received</th>\n",
       "      <th>is_attend</th>\n",
       "      <th>year</th>\n",
       "    </tr>\n",
       "  </thead>\n",
       "  <tbody>\n",
       "    <tr>\n",
       "      <th>0</th>\n",
       "      <td>F</td>\n",
       "      <td>62</td>\n",
       "      <td>JARDIM DA PENHA</td>\n",
       "      <td>false</td>\n",
       "      <td>true</td>\n",
       "      <td>false</td>\n",
       "      <td>0</td>\n",
       "      <td>yes</td>\n",
       "      <td>2016</td>\n",
       "    </tr>\n",
       "    <tr>\n",
       "      <th>1</th>\n",
       "      <td>M</td>\n",
       "      <td>56</td>\n",
       "      <td>JARDIM DA PENHA</td>\n",
       "      <td>false</td>\n",
       "      <td>false</td>\n",
       "      <td>false</td>\n",
       "      <td>0</td>\n",
       "      <td>yes</td>\n",
       "      <td>2016</td>\n",
       "    </tr>\n",
       "    <tr>\n",
       "      <th>2</th>\n",
       "      <td>F</td>\n",
       "      <td>62</td>\n",
       "      <td>MATA DA PRAIA</td>\n",
       "      <td>false</td>\n",
       "      <td>false</td>\n",
       "      <td>false</td>\n",
       "      <td>0</td>\n",
       "      <td>yes</td>\n",
       "      <td>2016</td>\n",
       "    </tr>\n",
       "    <tr>\n",
       "      <th>3</th>\n",
       "      <td>F</td>\n",
       "      <td>8</td>\n",
       "      <td>PONTAL DE CAMBURI</td>\n",
       "      <td>false</td>\n",
       "      <td>false</td>\n",
       "      <td>false</td>\n",
       "      <td>0</td>\n",
       "      <td>yes</td>\n",
       "      <td>2016</td>\n",
       "    </tr>\n",
       "    <tr>\n",
       "      <th>4</th>\n",
       "      <td>F</td>\n",
       "      <td>56</td>\n",
       "      <td>JARDIM DA PENHA</td>\n",
       "      <td>false</td>\n",
       "      <td>true</td>\n",
       "      <td>true</td>\n",
       "      <td>0</td>\n",
       "      <td>yes</td>\n",
       "      <td>2016</td>\n",
       "    </tr>\n",
       "  </tbody>\n",
       "</table>\n",
       "</div>"
      ],
      "text/plain": [
       "  Gender  Age      Neighbourhood Scholarship Hipertension Diabetes  \\\n",
       "0      F   62    JARDIM DA PENHA       false         true    false   \n",
       "1      M   56    JARDIM DA PENHA       false        false    false   \n",
       "2      F   62      MATA DA PRAIA       false        false    false   \n",
       "3      F    8  PONTAL DE CAMBURI       false        false    false   \n",
       "4      F   56    JARDIM DA PENHA       false         true     true   \n",
       "\n",
       "   SMS_received is_attend  year  \n",
       "0             0       yes  2016  \n",
       "1             0       yes  2016  \n",
       "2             0       yes  2016  \n",
       "3             0       yes  2016  \n",
       "4             0       yes  2016  "
      ]
     },
     "execution_count": 45,
     "metadata": {},
     "output_type": "execute_result"
    }
   ],
   "source": [
    "# quick check \n",
    "df.head()"
   ]
  },
  {
   "cell_type": "code",
   "execution_count": 46,
   "id": "354014a2",
   "metadata": {},
   "outputs": [],
   "source": [
    "# take mean of age\n",
    "mean_Age=df.Age.mean()"
   ]
  },
  {
   "cell_type": "code",
   "execution_count": 47,
   "id": "e68ec0d4",
   "metadata": {},
   "outputs": [],
   "source": [
    "# save greater or equal than mean of age to [old] is attend\n",
    "df.loc[((df.Age >= mean_Age) & (df.is_attend == 'yes')), \"old\"] = \"is_come\""
   ]
  },
  {
   "cell_type": "code",
   "execution_count": 48,
   "id": "c289d53f",
   "metadata": {},
   "outputs": [],
   "source": [
    "# save less than mean of age to [young] is attend\n",
    "\n",
    "df.loc[((df.Age < mean_Age) & (df.is_attend == 'yes')), \"young\"] = \"is_come\""
   ]
  },
  {
   "cell_type": "code",
   "execution_count": 49,
   "id": "120b4f52",
   "metadata": {},
   "outputs": [
    {
     "data": {
      "text/html": [
       "<div>\n",
       "<style scoped>\n",
       "    .dataframe tbody tr th:only-of-type {\n",
       "        vertical-align: middle;\n",
       "    }\n",
       "\n",
       "    .dataframe tbody tr th {\n",
       "        vertical-align: top;\n",
       "    }\n",
       "\n",
       "    .dataframe thead th {\n",
       "        text-align: right;\n",
       "    }\n",
       "</style>\n",
       "<table border=\"1\" class=\"dataframe\">\n",
       "  <thead>\n",
       "    <tr style=\"text-align: right;\">\n",
       "      <th></th>\n",
       "      <th>Gender</th>\n",
       "      <th>Age</th>\n",
       "      <th>Neighbourhood</th>\n",
       "      <th>Scholarship</th>\n",
       "      <th>Hipertension</th>\n",
       "      <th>Diabetes</th>\n",
       "      <th>SMS_received</th>\n",
       "      <th>is_attend</th>\n",
       "      <th>year</th>\n",
       "      <th>old</th>\n",
       "      <th>young</th>\n",
       "    </tr>\n",
       "  </thead>\n",
       "  <tbody>\n",
       "    <tr>\n",
       "      <th>0</th>\n",
       "      <td>F</td>\n",
       "      <td>62</td>\n",
       "      <td>JARDIM DA PENHA</td>\n",
       "      <td>false</td>\n",
       "      <td>true</td>\n",
       "      <td>false</td>\n",
       "      <td>0</td>\n",
       "      <td>yes</td>\n",
       "      <td>2016</td>\n",
       "      <td>is_come</td>\n",
       "      <td>NaN</td>\n",
       "    </tr>\n",
       "    <tr>\n",
       "      <th>1</th>\n",
       "      <td>M</td>\n",
       "      <td>56</td>\n",
       "      <td>JARDIM DA PENHA</td>\n",
       "      <td>false</td>\n",
       "      <td>false</td>\n",
       "      <td>false</td>\n",
       "      <td>0</td>\n",
       "      <td>yes</td>\n",
       "      <td>2016</td>\n",
       "      <td>is_come</td>\n",
       "      <td>NaN</td>\n",
       "    </tr>\n",
       "    <tr>\n",
       "      <th>2</th>\n",
       "      <td>F</td>\n",
       "      <td>62</td>\n",
       "      <td>MATA DA PRAIA</td>\n",
       "      <td>false</td>\n",
       "      <td>false</td>\n",
       "      <td>false</td>\n",
       "      <td>0</td>\n",
       "      <td>yes</td>\n",
       "      <td>2016</td>\n",
       "      <td>is_come</td>\n",
       "      <td>NaN</td>\n",
       "    </tr>\n",
       "    <tr>\n",
       "      <th>3</th>\n",
       "      <td>F</td>\n",
       "      <td>8</td>\n",
       "      <td>PONTAL DE CAMBURI</td>\n",
       "      <td>false</td>\n",
       "      <td>false</td>\n",
       "      <td>false</td>\n",
       "      <td>0</td>\n",
       "      <td>yes</td>\n",
       "      <td>2016</td>\n",
       "      <td>NaN</td>\n",
       "      <td>is_come</td>\n",
       "    </tr>\n",
       "    <tr>\n",
       "      <th>4</th>\n",
       "      <td>F</td>\n",
       "      <td>56</td>\n",
       "      <td>JARDIM DA PENHA</td>\n",
       "      <td>false</td>\n",
       "      <td>true</td>\n",
       "      <td>true</td>\n",
       "      <td>0</td>\n",
       "      <td>yes</td>\n",
       "      <td>2016</td>\n",
       "      <td>is_come</td>\n",
       "      <td>NaN</td>\n",
       "    </tr>\n",
       "  </tbody>\n",
       "</table>\n",
       "</div>"
      ],
      "text/plain": [
       "  Gender  Age      Neighbourhood Scholarship Hipertension Diabetes  \\\n",
       "0      F   62    JARDIM DA PENHA       false         true    false   \n",
       "1      M   56    JARDIM DA PENHA       false        false    false   \n",
       "2      F   62      MATA DA PRAIA       false        false    false   \n",
       "3      F    8  PONTAL DE CAMBURI       false        false    false   \n",
       "4      F   56    JARDIM DA PENHA       false         true     true   \n",
       "\n",
       "   SMS_received is_attend  year      old    young  \n",
       "0             0       yes  2016  is_come      NaN  \n",
       "1             0       yes  2016  is_come      NaN  \n",
       "2             0       yes  2016  is_come      NaN  \n",
       "3             0       yes  2016      NaN  is_come  \n",
       "4             0       yes  2016  is_come      NaN  "
      ]
     },
     "execution_count": 49,
     "metadata": {},
     "output_type": "execute_result"
    }
   ],
   "source": [
    "# check new column\n",
    "df.head()"
   ]
  },
  {
   "cell_type": "code",
   "execution_count": 50,
   "id": "a0023c9e",
   "metadata": {},
   "outputs": [
    {
     "data": {
      "text/plain": [
       "is_come    True\n",
       "dtype: bool"
      ]
     },
     "execution_count": 50,
     "metadata": {},
     "output_type": "execute_result"
    }
   ],
   "source": [
    "# check the [old] is greater than [young] is attend\n",
    "df.old.value_counts() > df.young.value_counts()"
   ]
  },
  {
   "cell_type": "markdown",
   "id": "36fc0ce1",
   "metadata": {},
   "source": [
    "##### see the output is [ True ]  mean old is more attend than young"
   ]
  },
  {
   "cell_type": "markdown",
   "id": "e5d77321",
   "metadata": {},
   "source": [
    "<hr>"
   ]
  },
  {
   "cell_type": "code",
   "execution_count": 51,
   "id": "13510ed9",
   "metadata": {
    "scrolled": true
   },
   "outputs": [
    {
     "data": {
      "text/plain": [
       "Gender  old    \n",
       "F       is_come    30447\n",
       "M       is_come    14405\n",
       "Name: old, dtype: int64"
      ]
     },
     "execution_count": 51,
     "metadata": {},
     "output_type": "execute_result"
    }
   ],
   "source": [
    "# who gender is more attend\n",
    "df.groupby('Gender')['old'].value_counts()"
   ]
  },
  {
   "cell_type": "code",
   "execution_count": 52,
   "id": "9db62bc1",
   "metadata": {},
   "outputs": [],
   "source": [
    "# count of Gender is attend from [ old ]\n",
    "Female = df.groupby('Gender')['old'].value_counts()[0]\n",
    "Male = df.groupby('Gender')['old'].value_counts()[1]"
   ]
  },
  {
   "cell_type": "markdown",
   "id": "906caec7",
   "metadata": {},
   "source": [
    "##### see the output is ( Female ) is more attend than ( male )"
   ]
  },
  {
   "cell_type": "markdown",
   "id": "c85d3256",
   "metadata": {},
   "source": [
    "<hr>"
   ]
  },
  {
   "cell_type": "code",
   "execution_count": 53,
   "id": "ec771ba2",
   "metadata": {},
   "outputs": [],
   "source": [
    "#the old age groupby gender\n",
    "Gender_old=df.groupby('Gender')['old'].value_counts()"
   ]
  },
  {
   "cell_type": "code",
   "execution_count": 65,
   "id": "9803682d",
   "metadata": {},
   "outputs": [
    {
     "data": {
      "text/plain": [
       "<matplotlib.legend.Legend at 0x7ff78b9c7e10>"
      ]
     },
     "execution_count": 65,
     "metadata": {},
     "output_type": "execute_result"
    },
    {
     "data": {
      "image/png": "[encoded data removed]",
      "text/plain": [
       "<Figure size 576x576 with 1 Axes>"
      ]
     },
     "metadata": {},
     "output_type": "display_data"
    }
   ],
   "source": [
    "# draw the gender who most attend \n",
    "Gender_old.plot(kind=kpie,figsize=(8,8),colors=['pink','blue'],autopct='%1.1f%%', fontsize=17)\n",
    "\n",
    "plt.title(\"the most Gender attended \")\n",
    "plt.xlabel(\"Gender is come \")\n",
    "plt.ylabel(\"Attendance number  \")\n",
    "plt.legend()"
   ]
  },
  {
   "cell_type": "markdown",
   "id": "1056b0a8",
   "metadata": {},
   "source": [
    "\n",
    "# <hr>\n",
    "\n",
    "# <div style='color : green'> question answer Five </div>\n",
    "\n",
    "\n",
    "### <p style='color : green'> Most of the attendees are over the age of 38, and the female gender is even more   </p>\n",
    "\n",
    "\n",
    "# </hr>\n"
   ]
  },
  {
   "cell_type": "markdown",
   "id": "2e9ae008",
   "metadata": {},
   "source": [
    "# <p id='Q6'> Q6 : What is the year  of the most attended? </p>"
   ]
  },
  {
   "cell_type": "code",
   "execution_count": 55,
   "id": "a4511a32",
   "metadata": {},
   "outputs": [
    {
     "data": {
      "text/plain": [
       "array([2016, 2015])"
      ]
     },
     "execution_count": 55,
     "metadata": {},
     "output_type": "execute_result"
    }
   ],
   "source": [
    "# see the unique of values year dataset have\n",
    "df.year.unique()"
   ]
  },
  {
   "cell_type": "code",
   "execution_count": 56,
   "id": "4d6bfdb4",
   "metadata": {},
   "outputs": [],
   "source": [
    "# i filtter count of 2016 year who is attend only \n",
    "year_2016 = df[(df.is_attend == 'yes') & (df.year == 2016)].count()['Gender']"
   ]
  },
  {
   "cell_type": "code",
   "execution_count": 57,
   "id": "ed83341a",
   "metadata": {},
   "outputs": [
    {
     "data": {
      "text/plain": [
       "88165"
      ]
     },
     "execution_count": 57,
     "metadata": {},
     "output_type": "execute_result"
    }
   ],
   "source": [
    "#count total of who attend in 2016\n",
    "year_2016"
   ]
  },
  {
   "cell_type": "code",
   "execution_count": 58,
   "id": "b024f701",
   "metadata": {},
   "outputs": [],
   "source": [
    "# i filtter count of 2015 year who is attend only \n",
    "\n",
    "year_2015 = df[(df.is_attend == 'yes') & (df.year == 2015)].count()['Gender']"
   ]
  },
  {
   "cell_type": "code",
   "execution_count": 59,
   "id": "6278db0a",
   "metadata": {},
   "outputs": [
    {
     "data": {
      "text/plain": [
       "43"
      ]
     },
     "execution_count": 59,
     "metadata": {},
     "output_type": "execute_result"
    }
   ],
   "source": [
    "#count total of who attend in 2015\n",
    "\n",
    "year_2015"
   ]
  },
  {
   "cell_type": "code",
   "execution_count": 75,
   "id": "f8beea47",
   "metadata": {},
   "outputs": [],
   "source": [
    "all_year = [year_2015,year_2016]"
   ]
  },
  {
   "cell_type": "code",
   "execution_count": 77,
   "id": "887f951d",
   "metadata": {},
   "outputs": [],
   "source": [
    "# plt.figure(figsize=(5, 5), dpi=100)\n",
    "# plt.scatter(all_year ,df['Age'] , s=40 , c='r');\n",
    "\n",
    "# plt.title('the ages of most attend in years ')\n",
    "# plt.xlabel('Year')\n",
    "# plt.ylabel('Age')\n",
    "# plt.text(10, 115, 'blue: show up \\ngreen: didnt show up', style='italic',\n",
    "#         bbox={'facecolor': 'white', 'alpha': 0.5, 'pad': 10})"
   ]
  },
  {
   "cell_type": "code",
   "execution_count": 63,
   "id": "9bbd0591",
   "metadata": {
    "scrolled": true
   },
   "outputs": [
    {
     "data": {
      "text/plain": [
       "Text(0, 0.5, 'Number of attendees')"
      ]
     },
     "execution_count": 63,
     "metadata": {},
     "output_type": "execute_result"
    },
    {
     "data": {
      "image/png": "[encoded data removed]",
      "text/plain": [
       "<Figure size 432x288 with 1 Axes>"
      ]
     },
     "metadata": {},
     "output_type": "display_data"
    }
   ],
   "source": [
    "# i draw the count for two years 2015 & 2016\n",
    "locations = [2015, 2016]\n",
    "heights = [year_2015, year_2016]\n",
    "labels = ['2015', '2016']\n",
    "plt.style.use('dark_background')\n",
    "plt.bar(locations, heights,tick_label=labels)\n",
    "plt.title('Attendance rate during the year ')\n",
    "plt.xlabel('The Year')\n",
    "plt.ylabel('Number of attendees')\n"
   ]
  },
  {
   "cell_type": "markdown",
   "id": "2ec5869e",
   "metadata": {},
   "source": [
    "# <hr>\n",
    "\n",
    "# <div style='color : green'> question answer SIX </div>\n",
    "\n",
    "\n",
    "### <p style='color : green'> 2016 is the most attended year   </p>\n",
    "\n",
    "\n",
    "# </hr>"
   ]
  },
  {
   "cell_type": "markdown",
   "id": "2d78beae",
   "metadata": {},
   "source": [
    "<span> </span>"
   ]
  },
  {
   "cell_type": "markdown",
   "id": "691fb1ce",
   "metadata": {},
   "source": [
    "</hr>"
   ]
  },
  {
   "cell_type": "markdown",
   "id": "17cef439",
   "metadata": {},
   "source": [
    "</hr>"
   ]
  },
  {
   "cell_type": "markdown",
   "id": "5f83b5ee",
   "metadata": {},
   "source": [
    "## Conclusions After analyzing the data and the questions above we saw many facts that might be affect to attend to the appointment, some of this facts:\n",
    "\n",
    "1- we saw above in the question 1 the diabetes and Hipertension not be affect to  attend to appointment \n",
    "\n",
    "2- we saw above in the question 2 Most of the attendees are who dosen't have a Scholarship is more attend to the appointment. \n",
    "\n",
    "3- we saw above in the question 3 Those who didn't receive a message attend more  of the attendance who receive the SMS message \n",
    "4- we saw above in the question 4 The neighborhood   JARDIM CAMBURI It is the most attended neighborhood \n",
    "\n",
    "5- we saw above in the question 5 Most of the attendees are over the age of 38, and the female  is even more male by 67.9% is attend\n",
    "\n",
    "6-  we saw above in the question 6 Most of the attendees are in 2016 is the most attended year \n",
    "\n",
    "\n",
    "<hr>\n",
    "\n",
    "# limitations\n",
    "\n",
    "in the analyzing above, I was hoping to have more information like  the departments name in the hospital and The names of the people and the number of times he committed and attended the hospital \n",
    "\n",
    "i think the result or the information above only limit to one place or hospital so you can’t depend on it.\n",
    "\n",
    "\n",
    "\n",
    "\n",
    "\n"
   ]
  }
 ],
 "metadata": {
  "kernelspec": {
   "display_name": "Python 3",
   "language": "python",
   "name": "python3"
  },
  "language_info": {
   "codemirror_mode": {
    "name": "ipython",
    "version": 3
   },
   "file_extension": ".py",
   "mimetype": "text/x-python",
   "name": "python",
   "nbconvert_exporter": "python",
   "pygments_lexer": "ipython3",
   "version": "3.7.10"
  }
 },
 "nbformat": 4,
 "nbformat_minor": 5
}
